{
 "cells": [
  {
   "cell_type": "markdown",
   "id": "5502c366-98f8-491b-b9da-3bfc3717c5b5",
   "metadata": {
    "editable": true,
    "slideshow": {
     "slide_type": "slide"
    },
    "tags": []
   },
   "source": [
    "# Sci-F: The Scientific Filesystem\n",
    "\n",
    "> Paul Gierz  \n",
    "> HPC and Data Processing  \n",
    "> Group Meeting 15. August, 2024\n",
    "\n",
    "[![Binder](https://mybinder.org/badge_logo.svg)](https://mybinder.org/v2/gh/pgierz/scif-demo/HEAD)"
   ]
  },
  {
   "cell_type": "markdown",
   "id": "2d6e6e75-d938-4cfc-ba66-09dd37fed0da",
   "metadata": {
    "editable": true,
    "slideshow": {
     "slide_type": "slide"
    },
    "tags": []
   },
   "source": [
    "## The Scientific Filesystem\n",
    "`scif` provides an abstraction for organizing various programs and meta-data into a user-friendly, discoverable way. From [the handbook](https://sci-f.github.io) [1]:\n",
    "> ...the Scientific Filesystem (SCIF), [is] an organizational format that supports exposure of executables and metadata for discoverability."
   ]
  },
  {
   "cell_type": "markdown",
   "id": "4c672e5c-a9ee-430e-9280-91060a64da75",
   "metadata": {
    "editable": true,
    "slideshow": {
     "slide_type": "subslide"
    },
    "tags": []
   },
   "source": [
    "Primarily, it allows:\n",
    "* a known *filesystem structure*"
   ]
  },
  {
   "cell_type": "markdown",
   "id": "e20847e4-c217-43fe-8828-af21cd27d066",
   "metadata": {
    "editable": true,
    "slideshow": {
     "slide_type": "fragment"
    },
    "tags": []
   },
   "source": [
    "* a definition for a set of *environment variables* describing it"
   ]
  },
  {
   "cell_type": "markdown",
   "id": "173e012b-f7ae-48be-b5e5-c6cf91377c83",
   "metadata": {
    "editable": true,
    "slideshow": {
     "slide_type": "fragment"
    },
    "tags": []
   },
   "source": [
    "* and *functions* for generation of the variables and interaction with the libraries, metadata, and executables located within."
   ]
  },
  {
   "cell_type": "markdown",
   "id": "c6d9068d-5a99-4b69-b6b1-f0c12fe924a8",
   "metadata": {
    "editable": true,
    "slideshow": {
     "slide_type": "fragment"
    },
    "tags": []
   },
   "source": [
    "This is of particular use for containerized applications when we want to bundle multiple parts together!"
   ]
  },
  {
   "cell_type": "markdown",
   "id": "046d41e6-3587-45ba-9020-b27cd3096efe",
   "metadata": {
    "editable": true,
    "slideshow": {
     "slide_type": "slide"
    },
    "tags": []
   },
   "source": [
    "## The Filesystem Structure\n",
    "Two main parts:\n",
    "1. `/scif/apps`: Location for each application\n",
    "2. `/scif/data`: Data used by each application"
   ]
  },
  {
   "cell_type": "markdown",
   "id": "4e8d6132-abaa-40e8-929f-2bdaad713f06",
   "metadata": {
    "editable": true,
    "slideshow": {
     "slide_type": "subslide"
    },
    "tags": []
   },
   "source": [
    "### `/scif/app`\n",
    "`/scif/app` can be thought of as a copy of the standard Linux `$PREFIX` directory, one for each app. This is very similar to how `spack` handles things. You have (at a mimimum):"
   ]
  },
  {
   "cell_type": "markdown",
   "id": "a3348d45-f5be-4b55-b3c6-336a3147fcac",
   "metadata": {
    "editable": true,
    "slideshow": {
     "slide_type": "fragment"
    },
    "tags": []
   },
   "source": [
    "* a directory for binaries: `/scif/apps/foo/bin`. These will be added to your `$PATH` when running a `foo`."
   ]
  },
  {
   "cell_type": "markdown",
   "id": "8f397b91-6475-4a0a-9a79-b2b59ec060d9",
   "metadata": {
    "editable": true,
    "slideshow": {
     "slide_type": "fragment"
    },
    "tags": []
   },
   "source": [
    "* a directory for libraries: `/scif/apps/foo/lib`. This is added to `$LD_LIBRARY_PATH`."
   ]
  },
  {
   "cell_type": "markdown",
   "id": "68b564ae-c108-4cbd-b9b5-d4cfe511ca30",
   "metadata": {
    "editable": true,
    "slideshow": {
     "slide_type": "fragment"
    },
    "tags": []
   },
   "source": [
    "* metadata describing the app under `/scif/apps/foo/scif`. This contains labels, environment variables, the runscript, and help."
   ]
  },
  {
   "cell_type": "markdown",
   "id": "8b95b8b9-a204-48db-9329-1c1d415b0d83",
   "metadata": {
    "editable": true,
    "slideshow": {
     "slide_type": "slide"
    },
    "tags": []
   },
   "source": [
    "### `/scif/data`\n",
    "The `/scif/data` path is also separated for each app, and can be as complex as you like. Generally you'll want to store input and output data here."
   ]
  },
  {
   "cell_type": "markdown",
   "id": "a123e53e-bfff-4cda-a1c8-fbde08488fa3",
   "metadata": {
    "editable": true,
    "slideshow": {
     "slide_type": "fragment"
    },
    "tags": []
   },
   "source": [
    "There is no strict rule here, but you could do something like this:\n",
    "* `/scif/data/foo/input`: Input data needed for app `foo`\n",
    "* `/scif/data/foo`: General data needed for `foo`\n",
    "* `/scif/data`: Data that you might need across various applications."
   ]
  },
  {
   "cell_type": "markdown",
   "id": "022ba5ad-790d-4393-b382-354625918907",
   "metadata": {
    "editable": true,
    "slideshow": {
     "slide_type": "slide"
    },
    "tags": []
   },
   "source": [
    "## The Environment Variables\n",
    "You get a set of environment variables that should be defined when using a scientific filesystem. \n",
    "> **Table 1.** Default environment variables used by `scif`.\n",
    "| Variable           | Default Setting | Meaning                                              |\n",
    "|--------------------|-----------------|------------------------------------------------------|\n",
    "| `SCIF_BASE`        | `/scif`\t       | the root location for SCIF                           |\n",
    "| `SCIF_DATA`        | `/scif/data`\t   | the root location for apps data                      |\n",
    "| `SCIF_APPS`        | `/scif/apps`    | the root location for installed apps                 |\n",
    "| `SCIF_SHELL`       | `/bin/bash`\t   | shell to use for “shell” command                     |\n",
    "| `SCIF_PYSHELL`     | `ipython`\t   | interactive python shell for pyshell command         |\n",
    "| `SCIF_ENTRYPOINT`  | `/bin/bash`\t   | the command to run given no runscript or app defined |\n",
    "| `SCIF_ENTRYFOLDER` | `${SCIF_BASE}`  | the entry folder to run the entrypoint command       |\n",
    "| `SCIF_MESSAGELEVEL`| INFO\t           | a client level of verbosity. Must be one             |\n",
    "|                    |                 | of CRITICAL, ABORT, ERROR, WARNING, LOG, INFO,       |\n",
    "|                    |                 | QUIET, VERBOSE, DEBUG                                |\n"
   ]
  },
  {
   "cell_type": "markdown",
   "id": "e9511ff0-2b41-4fe9-a3ba-5c7ee01af101",
   "metadata": {
    "editable": true,
    "slideshow": {
     "slide_type": "subslide"
    },
    "tags": []
   },
   "source": [
    "There are also a set of variables that describe the currently used application:\n",
    "> **Table 2.** Currently active variables\n",
    "\n",
    "| Variable          | Default Setting                          | Meaning                                                           |\n",
    "|-------------------|------------------------------------------|-------------------------------------------------------------------|\n",
    "| `SCIF_APPNAME`\t| `example`\t                               | the active software app                                           |\n",
    "| `SCIF_APPDATA`\t| `/scif/data/example`\t                   | the data root for the active software app                         |\n",
    "| `SCIF_APPROOT`\t| `/scif/apps/example`\t                   | the install root for the active software app                      |\n",
    "| `SCIF_APPBIN`\t    | `/scif/apps/example/bin`\t               | the app bin, which is automatically added to the path when active |\n",
    "| `SCIF_APPLIB`\t    | `/scif/apps/example/lib`\t               | the app bin, which is automatically added to the path when active |\n",
    "| `SCIF_APPMETA`\t| `/scif/apps/example/scif`\t               | the metadata folder                                               |\n",
    "| `SCIF_APPHELP`\t| `/scif/apps/example/scif/runscript.help` | a text file with help to print for the user to the terminal       |\n",
    "| `SCIF_APPRUN`\t    | `/scif/apps/example/scif/runscript`\t   | the commands to run as the app entrypoint                         |\n",
    "| `SCIF_APPSTART`\t| `/scif/apps/example/scif/startscript`\t   | the start script (if provided) for an app                         |\n",
    "| `SCIF_APPTEST`\t| `/scif/apps/example/scif/test`\t       | the commands to run to test the app                               |\n",
    "| `SCIF_APPLABELS`\t| `/scif/apps/example/scif/labels.json`\t   | a key:value json lookup dictionary of labels                      |\n",
    "| `SCIF_APPENV`  \t| `/scif/apps/example/scif/environment.sh` | a shell script to source for the software app environment         |"
   ]
  },
  {
   "cell_type": "markdown",
   "id": "ba23ad04-21e1-48ea-92b6-db96208dc326",
   "metadata": {
    "editable": true,
    "slideshow": {
     "slide_type": ""
    },
    "tags": []
   },
   "source": [
    "Other applications also define these variables, with their name appended."
   ]
  },
  {
   "cell_type": "markdown",
   "id": "0327d9b6-0e78-46bc-80a6-bbc26644ebc2",
   "metadata": {
    "editable": true,
    "slideshow": {
     "slide_type": "slide"
    },
    "tags": []
   },
   "source": [
    "## The `scif` command line tool\n",
    "\n",
    "The Sci-F framework provides a nice command line tool, `scif` which can interact with the environment. You can easily install it with pip:"
   ]
  },
  {
   "cell_type": "code",
   "execution_count": null,
   "id": "cd440547-cc58-4760-b774-2fdb68996730",
   "metadata": {
    "editable": true,
    "slideshow": {
     "slide_type": ""
    },
    "tags": []
   },
   "outputs": [],
   "source": [
    "%%bash\n",
    "pip install scif"
   ]
  },
  {
   "cell_type": "markdown",
   "id": "4d37082f-31cd-436c-ab72-e4e6e3572ad7",
   "metadata": {
    "editable": true,
    "slideshow": {
     "slide_type": "subslide"
    },
    "tags": []
   },
   "source": [
    "Let's see what this can do:"
   ]
  },
  {
   "cell_type": "code",
   "execution_count": null,
   "id": "d462ebca-5d35-4f52-9651-d989ce8241f4",
   "metadata": {
    "editable": true,
    "slideshow": {
     "slide_type": ""
    },
    "tags": []
   },
   "outputs": [],
   "source": [
    "%%bash\n",
    "which scif"
   ]
  },
  {
   "cell_type": "code",
   "execution_count": null,
   "id": "8683e590-b6fa-408d-bcc0-55733e7f30d5",
   "metadata": {
    "editable": true,
    "slideshow": {
     "slide_type": "fragment"
    },
    "tags": []
   },
   "outputs": [],
   "source": [
    "%%bash\n",
    "scif --help"
   ]
  },
  {
   "cell_type": "markdown",
   "id": "c6444760-2c07-4ca5-9b12-3bf94b828bd9",
   "metadata": {
    "editable": true,
    "slideshow": {
     "slide_type": "slide"
    },
    "tags": []
   },
   "source": [
    "# References\n",
    "1. https://sci-f.github.io"
   ]
  }
 ],
 "metadata": {
  "kernelspec": {
   "display_name": "Python 3 (ipykernel)",
   "language": "python",
   "name": "python3"
  },
  "language_info": {
   "codemirror_mode": {
    "name": "ipython",
    "version": 3
   },
   "file_extension": ".py",
   "mimetype": "text/x-python",
   "name": "python",
   "nbconvert_exporter": "python",
   "pygments_lexer": "ipython3",
   "version": "3.12.5"
  },
  "toc": {
   "base_numbering": 1
  }
 },
 "nbformat": 4,
 "nbformat_minor": 5
}
